{
 "cells": [
  {
   "cell_type": "markdown",
   "metadata": {},
   "source": [
    "## Exercises\n",
    "Using the diabetes data set:"
   ]
  },
  {
   "cell_type": "markdown",
   "metadata": {},
   "source": [
    "## 1. \n",
    "\n",
    "\n",
    "from sklearn.model_selection import cross_validate\n",
    "from sklearn.model_selection import RepeatedKFold\n",
    "\n",
    "cv = RepeatedKFold(n_splits=5, n_repeats=5, random_state=0)\n",
    "cv_model = cross_validate(\n",
    "    model,\n",
    "    X,\n",
    "    y,\n",
    "    cv=cv,\n",
    "    return_estimator=True,\n",
    "    n_jobs=2,\n",
    ")\n",
    "\n",
    "coefs = pd.DataFrame(\n",
    "    [\n",
    "        est[-1].regressor_.coef_ * est[:-1].transform(X.iloc[train_idx]).std(axis=0)\n",
    "        for est, (train_idx, _) in zip(cv_model[\"estimator\"], cv.split(X, y))\n",
    "    ],\n",
    "    columns=feature_names,\n",
    ")\n"
   ]
  },
  {
   "cell_type": "markdown",
   "metadata": {},
   "source": [
    "### 1. Nested cross-validation of regularized models with parameter search vs. manual feature selection (2.5p)\n",
    "In the code above we checked the MSE of the best results from the grid search CV. The models are comparable because the default CV (*sklearn.model_selection.KFold*) is not randomized. \n",
    "\n",
    "However, we didn't compute a proper test error of the regularized models including the grid search. Previously we did the train-test split and performed CV based grid search on the training data, \n",
    "but when the differences are small and the model is not well suited to the task (we have a lot of unexplained variance) we should get a better estimate of the test error. \n",
    "\n",
    "To do this we can use cross validation and tune the parameters independently within each fold, better yet we can do repeat the 'outer' CV and randomize the order of the data for each repeat such that the folds are different.\n",
    "\n",
    "If this sounds complicated, dont worry: *sklearn* has built-in 'Pipelines' which include a *GridSearchCV* in the estimators. E.g. using *LassoCV* and *RepeatedKFold* in *cross_val_score* performs repeated nested cross-validation with *Lasso*.\n",
    "\n",
    "There is a code cell below that produces the repeated nested cross-validation RMSE results of a Lasso model (expand the cell), you can try to do it yourself if you want more challenge.\n",
    "\n",
    "Print the mean and standard deviation of RMSE.\n",
    "\n",
    "Try *RidgeCV* and *ElasticNetCV* as well.\n",
    "\n",
    "Choose a set of features that are the most important in your opinion based on the coefficients in the notebook. Use repeated cross-validation to estimate the RMSE of a standard linear model fit on just those features.\n",
    "\n",
    "Comment on the results. Can you confidently say what is the best model? Would you expect the unregularized model to perform better than the regularized one if you selected the 'true' causal features? "
   ]
  },
  {
   "cell_type": "markdown",
   "metadata": {},
   "source": [
    "#### Solution:\n"
   ]
  },
  {
   "cell_type": "code",
   "execution_count": 1,
   "metadata": {},
   "outputs": [],
   "source": [
    "import numpy as np\n",
    "from sklearn.datasets import load_diabetes\n",
    "diabetes = load_diabetes()"
   ]
  },
  {
   "cell_type": "code",
   "execution_count": 2,
   "metadata": {},
   "outputs": [
    {
     "name": "stdout",
     "output_type": "stream",
     "text": [
      "RMSE mean: 54.74798096539705\n",
      "RMSE std: 5.61639849188746\n"
     ]
    }
   ],
   "source": [
    "from sklearn.model_selection import cross_val_score\n",
    "from sklearn.model_selection import RepeatedKFold\n",
    "from sklearn.linear_model import LassoCV\n",
    "\n",
    "my_seed = 0\n",
    "alphas = np.logspace(-3,0,31)\n",
    "\n",
    "lasso_rmse = cross_val_score(LassoCV(alphas = alphas), diabetes.data, diabetes.target, scoring='neg_root_mean_squared_error', cv = RepeatedKFold(n_splits = 10, n_repeats = 10, random_state = my_seed))\n",
    "print('RMSE mean: {}'.format(-lasso_rmse.mean()))\n",
    "print('RMSE std: {}'.format(lasso_rmse.std()))"
   ]
  },
  {
   "cell_type": "code",
   "execution_count": 3,
   "metadata": {},
   "outputs": [
    {
     "name": "stdout",
     "output_type": "stream",
     "text": [
      "RMSE mean: 54.46184569303728\n",
      "RMSE std: 5.4776698036664655\n"
     ]
    }
   ],
   "source": [
    "from sklearn.linear_model import LinearRegression\n",
    "features = np.array([1,2,3,6,8])\n",
    "manual_rmse = cross_val_score(LinearRegression(), diabetes.data[:,features], diabetes.target, scoring='neg_root_mean_squared_error', cv = RepeatedKFold(n_splits = 10, n_repeats = 10, random_state = my_seed))\n",
    "print('RMSE mean: {}'.format(-manual_rmse.mean()))\n",
    "print('RMSE std: {}'.format(manual_rmse.std()))"
   ]
  },
  {
   "cell_type": "code",
   "execution_count": 4,
   "metadata": {},
   "outputs": [
    {
     "name": "stdout",
     "output_type": "stream",
     "text": [
      "RMSE mean: 54.72881492615611\n",
      "RMSE std: 5.642576572969555\n"
     ]
    }
   ],
   "source": [
    "from sklearn.linear_model import RidgeCV\n",
    "\n",
    "ridge_rmse = cross_val_score(RidgeCV(alphas = alphas), diabetes.data, diabetes.target, scoring='neg_root_mean_squared_error', cv = RepeatedKFold(n_splits = 10, n_repeats = 10, random_state = my_seed))\n",
    "print('RMSE mean: {}'.format(-ridge_rmse.mean()))\n",
    "print('RMSE std: {}'.format(ridge_rmse.std()))"
   ]
  },
  {
   "cell_type": "code",
   "execution_count": 5,
   "metadata": {},
   "outputs": [
    {
     "name": "stdout",
     "output_type": "stream",
     "text": [
      "RMSE mean: 54.75542875076383\n",
      "RMSE std: 5.592439276053758\n"
     ]
    }
   ],
   "source": [
    "from sklearn.linear_model import ElasticNetCV\n",
    "\n",
    "elastic_rmse = cross_val_score(ElasticNetCV(l1_ratio = [.1, .5, .7, .9, .95, .99, 1], alphas = alphas), diabetes.data, diabetes.target, scoring='neg_root_mean_squared_error', cv = RepeatedKFold(n_splits = 10, n_repeats = 10, random_state = my_seed))\n",
    "print('RMSE mean: {}'.format(-elastic_rmse.mean()))\n",
    "print('RMSE std: {}'.format(elastic_rmse.std()))"
   ]
  },
  {
   "cell_type": "markdown",
   "metadata": {},
   "source": [
    "Manual selection was slightly better, but the standard deviation of the RMSE is very high comparatively so the models can be expected to perform very similarly on unseen data. We could use more repeats to get a stable enough estimate with low enough standard error to make a statistical judgement, but it in practice the differences are too small to matter. \n",
    "\n",
    "Probably, the 'true' unregularized model would outperform since regularization penalizes all coefficients similarly which could pull the true coefficients away from optimum. Although, if we use the regularized model on the 'true' features only, performing a parameter search for alpha we might find that a low alpha value works best giving us almost the same model.\n",
    "\n",
    "**Note that nested CV is computationally expensive and usually unnecessary, but in this case the differences between the models were so small compared to the unexplained variance that using cross-validation for test accuracy was necessary AND selecting the hyper-parameters using the sklearn EstimatorCV functions is pretty painless AND in the case of linear models it is also computationally relatively inexpensive. CV is a generic tool to implement the train-test(/validation) split robustly and it can be used in a nested setup like this.**"
   ]
  },
  {
   "cell_type": "markdown",
   "metadata": {},
   "source": [
    "### 2. Polynomial Ridge Regression (2.5p)\n",
    "We can use the linear regression model to do different tasks (such as logistic regression which we used for classification). In addition to modifying the target, we can modify the features we use in the regression. \n",
    "\n",
    "One very interesting modification is polynomial regression. We can use our observations of $x_1$ and $x_2$ to generate the observations of ${x_1}^2$ ${x_2}^2$ and $x_1 \\cdot x_2$ and so on. The latter terms are called 'interactions' and they can certainly be interesting in omics data, although for $m$ features you already get $m^2 - m$ interaction terms of degree 2 which quickly leads to problems such as overfitting. We can use the generated 'observations' of these variables as features in e.g. linear regression without changing anything else. We can even use the Ridge regularized model to deal with the overfitting issues (Lasso and ElasticNet don't work so well however).\n",
    "\n",
    "Use the [*PolynomialFeatures*](https://scikit-learn.org/stable/modules/generated/sklearn.preprocessing.PolynomialFeatures.html?highlight=polynomial%20features) to transform the features and estimate the test RMSE of a Ridge regression model on the transformed features. You can use alpha=0.01 and degree = 2.\n",
    "\n",
    "Fit the polynomial Ridge model on the whole data set and plot the coefficients (e.g. sns.barplot(x=coefficients, y=feature_names)). You can get the polynomial feature names with the get_feature_names method of *PolynomialFeatures*.\n",
    "\n",
    "Comment on the fit. (Do you think the added complexity justifies the reduction in error over the linear models?)"
   ]
  },
  {
   "cell_type": "markdown",
   "metadata": {},
   "source": [
    "#### Solution:\n"
   ]
  },
  {
   "cell_type": "code",
   "execution_count": 6,
   "metadata": {},
   "outputs": [],
   "source": [
    "from sklearn.preprocessing import PolynomialFeatures, StandardScaler\n",
    "from sklearn.model_selection import cross_val_score\n",
    "\n",
    "poly = PolynomialFeatures(2)\n",
    "poly.fit(diabetes.data)\n",
    "X_poly = poly.transform(diabetes.data)"
   ]
  },
  {
   "cell_type": "code",
   "execution_count": 7,
   "metadata": {},
   "outputs": [],
   "source": [
    "from sklearn.linear_model import Ridge\n",
    "from sklearn.model_selection import RepeatedKFold\n",
    "\n",
    "ridge_poly_rmse = cross_val_score(Ridge(alpha = 0.01), X_poly, diabetes.target, scoring='neg_root_mean_squared_error', cv = RepeatedKFold(n_splits = 10, n_repeats = 10, random_state = my_seed))"
   ]
  },
  {
   "cell_type": "code",
   "execution_count": 8,
   "metadata": {},
   "outputs": [
    {
     "name": "stdout",
     "output_type": "stream",
     "text": [
      "RMSE mean: 54.042426115843064\n",
      "RMSE std: 5.628682828019515\n"
     ]
    }
   ],
   "source": [
    "print('RMSE mean: {}'.format(-ridge_poly_rmse.mean()))\n",
    "print('RMSE std: {}'.format(ridge_poly_rmse.std()))"
   ]
  },
  {
   "cell_type": "code",
   "execution_count": 9,
   "metadata": {},
   "outputs": [
    {
     "data": {
      "image/png": "[encoded data removed]",
      "text/plain": [
       "<Figure size 1152x1152 with 1 Axes>"
      ]
     },
     "metadata": {
      "needs_background": "light"
     },
     "output_type": "display_data"
    }
   ],
   "source": [
    "ridge_poly = Ridge(alpha = 0.01).fit(X_poly, diabetes.target)\n",
    "\n",
    "import seaborn as sns\n",
    "import matplotlib.pyplot as plt\n",
    "\n",
    "plt.figure(figsize=(16,16))\n",
    "ax = sns.barplot(y = poly.get_feature_names(diabetes.feature_names), x = ridge_poly.coef_)\n",
    "#for item in ax.get_xticklabels():\n",
    "#    item.set_rotation(90)\n",
    "plt.show()"
   ]
  },
  {
   "cell_type": "markdown",
   "metadata": {},
   "source": [
    "The RMSE improvement compared to the linear models is very small and the coefficients for many polynomial features are non-zero which suggests high complexity. Hence the basic linear model seems more reasonable for predicting and explaining diabetes risk."
   ]
  },
  {
   "cell_type": "code",
   "execution_count": null,
   "metadata": {},
   "outputs": [],
   "source": []
  }
 ],
 "metadata": {
  "kernelspec": {
   "display_name": "Python 3 (ipykernel)",
   "language": "python",
   "name": "python3"
  },
  "language_info": {
   "codemirror_mode": {
    "name": "ipython",
    "version": 3
   },
   "file_extension": ".py",
   "mimetype": "text/x-python",
   "name": "python",
   "nbconvert_exporter": "python",
   "pygments_lexer": "ipython3",
   "version": "3.7.10"
  }
 },
 "nbformat": 4,
 "nbformat_minor": 4
}
