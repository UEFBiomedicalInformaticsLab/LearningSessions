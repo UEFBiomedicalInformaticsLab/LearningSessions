{
 "cells": [
  {
   "cell_type": "markdown",
   "metadata": {},
   "source": [
    "## Exercises"
   ]
  },
  {
   "cell_type": "markdown",
   "metadata": {},
   "source": [
    "### 1. Feature importance\n",
    "ML methods like Random Forest-based classifier can indicate the relative importance of each attribute (feature) for making accurate predictions. Display these importance scores next to their corresponding attribute names ."
   ]
  },
  {
   "cell_type": "code",
   "execution_count": 1,
   "metadata": {},
   "outputs": [],
   "source": [
    "# Load data (not necessary if you ran the full notebook)\n",
    "import pandas as pd\n",
    "import numpy as np\n",
    "data = pd.read_csv('PS0/data.csv')\n",
    "\n",
    "# You can use boolean masks to select all column names matching a criteria\n",
    "features_mean = data.columns[np.array([i[-5:] == '_mean' for i in data.columns])] \n",
    "\n",
    "# first, we split the variables of the data set in predictors (X) and target (y) \n",
    "X = data.loc[:, features_mean] # note we use only the 'mean' features as predictors\n",
    "y = data.loc[:,'diagnosis']\n",
    "\n",
    "# second, we split the data set into training and testing sets\n",
    "from sklearn.model_selection import train_test_split\n",
    "X_train, X_test, y_train, y_test = train_test_split(X, y, test_size = 0.3, random_state = 0)\n",
    "X_ctrain = X_train.copy()\n",
    "\n",
    "# Feature Scaling\n",
    "from sklearn.preprocessing import StandardScaler\n",
    "sc = StandardScaler()\n",
    "scaled_features = sc.fit_transform(X_ctrain[features_mean].values)\n",
    "X_ctrain[features_mean] = scaled_features"
   ]
  },
  {
   "cell_type": "code",
   "execution_count": 3,
   "metadata": {},
   "outputs": [
    {
     "data": {
      "text/plain": [
       "GridSearchCV(cv=5, estimator=RandomForestClassifier(),\n",
       "             param_grid={'max_features': [2, 3, 4],\n",
       "                         'n_estimators': [3, 10, 30]},\n",
       "             return_train_score=True, scoring='accuracy')"
      ]
     },
     "execution_count": 3,
     "metadata": {},
     "output_type": "execute_result"
    }
   ],
   "source": [
    "# Use CV to fit RF (not necessary if you ran the full notebook)\n",
    "from sklearn.ensemble import RandomForestClassifier\n",
    "from sklearn.model_selection import GridSearchCV\n",
    "\n",
    "grid_param_1 = [3, 10, 30]\n",
    "grid_param_2 = [2, 3, 4]\n",
    "\n",
    "param_grid = {'n_estimators': grid_param_1, 'max_features': grid_param_2}\n",
    "forest_cls = RandomForestClassifier()\n",
    "\n",
    "grid_search = GridSearchCV(forest_cls, param_grid, cv=5, #iid = False,\n",
    "                           scoring='accuracy', return_train_score=True)\n",
    "\n",
    "grid_search.fit(X_ctrain, y_train)"
   ]
  },
  {
   "cell_type": "markdown",
   "metadata": {},
   "source": [
    "#### Solution:"
   ]
  },
  {
   "cell_type": "code",
   "execution_count": 4,
   "metadata": {},
   "outputs": [
    {
     "name": "stdout",
     "output_type": "stream",
     "text": [
      "radius_mean importance: 0.1018\n",
      "texture_mean importance: 0.0582\n",
      "perimeter_mean importance: 0.1325\n",
      "area_mean importance: 0.0795\n",
      "smoothness_mean importance: 0.0235\n",
      "compactness_mean importance: 0.0411\n",
      "concavity_mean importance: 0.2090\n",
      "concave points_mean importance: 0.3178\n",
      "symmetry_mean importance: 0.0208\n",
      "fractal_dimension_mean importance: 0.0158\n"
     ]
    }
   ],
   "source": [
    "# How to extract the feature important score\n",
    "feature_importances = grid_search.best_estimator_.feature_importances_\n",
    "# Print importances inside of a loop, note that Xc_train columns are in the same order as feature_means\n",
    "# because of how it was constructed. \n",
    "for name, importance in zip(features_mean, grid_search.best_estimator_.feature_importances_):\n",
    "    # Use format to print to a specific precision\n",
    "    print('{} importance: {:.4f}'.format(name, importance))"
   ]
  },
  {
   "cell_type": "markdown",
   "metadata": {},
   "source": [
    "### 2. Support Vector Machine classifier\n",
    "Try a Support Vector Machine classifier (sklearn.svm.SVC), with various hyper‐parameters such as kernel=\"linear\" (with various values for the C hyperparameter) or kernel=\"rbf\" (with various values for the C and gamma hyperparameters). Don’t worry about what these hyperparameters mean for now. How does the best SVC predictor perform? \n",
    "\n",
    "Plot the results using seaborn.lineplot (Hint: seaborn is very sensitive to input data type, use the .astype method to convert inputs to floating point values (dtype = 'float') if you run into problems). \n",
    "\n",
    "(Some confusion might arise from which data set to use: X/X_train/Xc_train)"
   ]
  },
  {
   "cell_type": "markdown",
   "metadata": {},
   "source": [
    "#### Solution:"
   ]
  },
  {
   "cell_type": "code",
   "execution_count": 6,
   "metadata": {},
   "outputs": [
    {
     "data": {
      "text/plain": [
       "GridSearchCV(cv=5, estimator=SVC(),\n",
       "             param_grid={'C': [0.1, 1, 10, 100, 1000],\n",
       "                         'gamma': [1, 0.1, 0.01, 0.001, 0.0001],\n",
       "                         'kernel': ['rbf']},\n",
       "             return_train_score=True, scoring='accuracy')"
      ]
     },
     "execution_count": 6,
     "metadata": {},
     "output_type": "execute_result"
    }
   ],
   "source": [
    "from sklearn.svm import SVC\n",
    "param_grid_svc = {'C': [0.1, 1, 10, 100, 1000],  \n",
    "                  'gamma': [1, 0.1, 0.01, 0.001, 0.0001], \n",
    "                  'kernel': ['rbf']}  \n",
    "\n",
    "svc_cls = SVC()\n",
    "grid_search_svc = GridSearchCV(svc_cls, param_grid_svc, cv=5, ##iid = False,\n",
    "                               scoring='accuracy', return_train_score=True)\n",
    "grid_search_svc.fit(X_ctrain, y_train)"
   ]
  },
  {
   "cell_type": "code",
   "execution_count": 7,
   "metadata": {},
   "outputs": [],
   "source": [
    "column_names = ['param_C', 'param_gamma', 'param_kernel', 'mean_test_score', 'std_test_score']\n",
    "search_data = pd.DataFrame(np.array([grid_search_svc.cv_results_[i] for i in column_names]).transpose(), columns = column_names)\n",
    "search_data.mean_test_score = search_data.mean_test_score.astype('float')\n",
    "search_data.param_C = search_data.param_C.astype('float')\n",
    "search_data.param_gamma = search_data.param_gamma.astype('float')"
   ]
  },
  {
   "cell_type": "code",
   "execution_count": 8,
   "metadata": {},
   "outputs": [
    {
     "data": {
      "image/png": "[encoded data removed]",
      "text/plain": [
       "<Figure size 432x288 with 1 Axes>"
      ]
     },
     "metadata": {
      "needs_background": "light"
     },
     "output_type": "display_data"
    }
   ],
   "source": [
    "import seaborn as sns\n",
    "import matplotlib.pyplot as plt\n",
    "ax = sns.lineplot(x = 'param_C', y = 'mean_test_score', hue = 'param_gamma', data = search_data)\n",
    "# Use logarithmic scale for SVC parameters\n",
    "ax.set(xscale=\"log\")\n",
    "plt.show()"
   ]
  },
  {
   "cell_type": "markdown",
   "metadata": {},
   "source": [
    "### 3. Randomized parameter search\n",
    "Try replacingGridSearchCV with RandomizedSearchCV for the Support Vector machine from the previous exercise or the RandomForestClassifier from section 7. \n",
    "\n",
    "(Hint: use scipy.stats uniform, loguniform or randint distributions for the parameters). \n",
    "\n",
    "Visualize the results using seaborn (e.g. a scatterplot)."
   ]
  },
  {
   "cell_type": "markdown",
   "metadata": {},
   "source": [
    "#### Solution:"
   ]
  },
  {
   "cell_type": "code",
   "execution_count": 10,
   "metadata": {},
   "outputs": [
    {
     "data": {
      "text/plain": [
       "RandomizedSearchCV(cv=5, estimator=SVC(), n_iter=100,\n",
       "                   param_distributions={'C': <scipy.stats._distn_infrastructure.rv_frozen object at 0x7fc458be7850>,\n",
       "                                        'gamma': <scipy.stats._distn_infrastructure.rv_frozen object at 0x7fc47ae21d10>},\n",
       "                   return_train_score=True, scoring='accuracy')"
      ]
     },
     "execution_count": 10,
     "metadata": {},
     "output_type": "execute_result"
    }
   ],
   "source": [
    "from sklearn.model_selection import RandomizedSearchCV\n",
    "from sklearn.svm import SVC\n",
    "from scipy.stats import loguniform\n",
    "param_dist_svc = {'C': loguniform(0.1, 1000),  \n",
    "                  'gamma': loguniform(0.0001, 1)}  \n",
    "\n",
    "svc_cls = SVC(kernel = 'rbf')\n",
    "random_search_svc = RandomizedSearchCV(svc_cls, param_dist_svc, cv=5, #iid = False,\n",
    "                                       scoring='accuracy', return_train_score=True, \n",
    "                                       n_iter = 100)\n",
    "random_search_svc.fit(X_ctrain, y_train)"
   ]
  },
  {
   "cell_type": "code",
   "execution_count": 11,
   "metadata": {},
   "outputs": [],
   "source": [
    "# Make a plottable DataFrame\n",
    "column_names = ['param_C', 'param_gamma', 'mean_test_score', 'std_test_score']\n",
    "search_data = pd.DataFrame(np.array([random_search_svc.cv_results_[i] for i in column_names]).transpose(), columns = column_names)\n",
    "#search_data.param_C = search_data.param_C.astype('float')\n",
    "search_data.mean_test_score = search_data.mean_test_score.astype('float')\n",
    "search_data.param_C = search_data.param_C.astype('float')\n",
    "search_data.param_gamma = search_data.param_gamma.astype('float')"
   ]
  },
  {
   "cell_type": "code",
   "execution_count": 12,
   "metadata": {},
   "outputs": [
    {
     "data": {
      "image/png": "[encoded data removed]",
      "text/plain": [
       "<Figure size 432x288 with 1 Axes>"
      ]
     },
     "metadata": {
      "needs_background": "light"
     },
     "output_type": "display_data"
    }
   ],
   "source": [
    "# Plot with seaborn.scatterplot\n",
    "import seaborn as sns\n",
    "import matplotlib.pyplot as plt\n",
    "ax = sns.scatterplot(x = 'param_C', y = 'param_gamma', hue = 'mean_test_score', data = search_data)\n",
    "# Use logarithmic scale for SVC parameters\n",
    "ax.set(xscale = \"log\", yscale = \"log\")\n",
    "plt.show()"
   ]
  },
  {
   "cell_type": "markdown",
   "metadata": {},
   "source": [
    "### 4. Indian liver patient dataset\n",
    "i) Download another data set (https://archive.ics.uci.edu/ml/datasets/ILPD+%28Indian+Liver+Patient+Dataset%29) and import it into python. \n",
    "\n",
    "ii) Process the data (cleaning, splitting and scaling). You may ignore the gender of the patients. \n",
    "\n",
    "iii) Predict disease status using any classifier you prefer. \n",
    "\n",
    "iv) Report the accuracy of your predictions. Did you notice any issues. "
   ]
  },
  {
   "cell_type": "markdown",
   "metadata": {},
   "source": [
    "#### Solution:"
   ]
  },
  {
   "cell_type": "markdown",
   "metadata": {},
   "source": [
    "Looking at the .csv file in notepad (or Excel) we notice that the column names are missing so we \n",
    "have to give them manually based on the description on the website. \n",
    "Note that we also have to tell Pandas not to interpret the first data row \n",
    "as column names. \n",
    "\n",
    "The info method shows the count of non-missing values and A/G Ratio (Albumin and Globulin Ratio) is the only one with a different number. "
   ]
  },
  {
   "cell_type": "code",
   "execution_count": 1,
   "metadata": {},
   "outputs": [
    {
     "name": "stdout",
     "output_type": "stream",
     "text": [
      "<class 'pandas.core.frame.DataFrame'>\n",
      "RangeIndex: 583 entries, 0 to 582\n",
      "Data columns (total 11 columns):\n",
      " #   Column   Non-Null Count  Dtype  \n",
      "---  ------   --------------  -----  \n",
      " 0   Age      583 non-null    int64  \n",
      " 1   Gender   583 non-null    object \n",
      " 2   TB       583 non-null    float64\n",
      " 3   DB       583 non-null    float64\n",
      " 4   Alkphos  583 non-null    int64  \n",
      " 5   Sgpt     583 non-null    int64  \n",
      " 6   Sgot     583 non-null    int64  \n",
      " 7   TP       583 non-null    float64\n",
      " 8   ALB      583 non-null    float64\n",
      " 9   A/G      579 non-null    float64\n",
      " 10  label    583 non-null    int64  \n",
      "dtypes: float64(5), int64(5), object(1)\n",
      "memory usage: 50.2+ KB\n"
     ]
    }
   ],
   "source": [
    "import pandas as pd\n",
    "data_ilpd = pd.read_csv('PS1/ilpd.csv', header = None, names = ['Age','Gender','TB','DB','Alkphos','Sgpt','Sgot','TP','ALB','A/G','label'])\n",
    "data_ilpd.info()"
   ]
  },
  {
   "cell_type": "markdown",
   "metadata": {},
   "source": [
    "Sometimes when using data from repositories you need to interpret the description of the attributes to figure out what the target variable is. \n",
    "We can check the distribution and check the page to infer that \"1\" corresponds to liver patient and \"2\" corresponds to non-liver patient. "
   ]
  },
  {
   "cell_type": "code",
   "execution_count": 2,
   "metadata": {},
   "outputs": [
    {
     "data": {
      "text/plain": [
       "1    416\n",
       "2    167\n",
       "Name: label, dtype: int64"
      ]
     },
     "execution_count": 2,
     "metadata": {},
     "output_type": "execute_result"
    }
   ],
   "source": [
    "data_ilpd['label'].value_counts()"
   ]
  },
  {
   "cell_type": "code",
   "execution_count": 3,
   "metadata": {},
   "outputs": [],
   "source": [
    "data_ilpd.drop(labels = 'Gender', axis = 1, inplace = True)"
   ]
  },
  {
   "cell_type": "code",
   "execution_count": 4,
   "metadata": {},
   "outputs": [
    {
     "data": {
      "text/plain": [
       "(579, 10)"
      ]
     },
     "execution_count": 4,
     "metadata": {},
     "output_type": "execute_result"
    }
   ],
   "source": [
    "data_ilpd[~data_ilpd['A/G'].isnull()].shape"
   ]
  },
  {
   "cell_type": "markdown",
   "metadata": {},
   "source": [
    "Since we only had 4 missing values out of 583 in one of the columns, you could remove those rows or the column. \n",
    "If you chose to use imputation, ideally you would do it after splitting the data (not required this time). Here is an example using *sklearn.SimpleImputer*."
   ]
  },
  {
   "cell_type": "code",
   "execution_count": 5,
   "metadata": {},
   "outputs": [],
   "source": [
    "# Split to train and test sets (modified copy from section 4)\n",
    "from sklearn.model_selection import train_test_split\n",
    "X2_train, X2_test, y2_train, y2_test = train_test_split(data_ilpd.loc[:, data_ilpd.columns != 'label'], \n",
    "                                                    data_ilpd.loc[:, data_ilpd.columns == 'label'], \n",
    "                                                    test_size = 0.3, random_state = 0)"
   ]
  },
  {
   "cell_type": "code",
   "execution_count": 6,
   "metadata": {},
   "outputs": [
    {
     "name": "stdout",
     "output_type": "stream",
     "text": [
      "<class 'pandas.core.frame.DataFrame'>\n",
      "Int64Index: 408 entries, 271 to 559\n",
      "Data columns (total 9 columns):\n",
      " #   Column   Non-Null Count  Dtype  \n",
      "---  ------   --------------  -----  \n",
      " 0   Age      408 non-null    int64  \n",
      " 1   TB       408 non-null    float64\n",
      " 2   DB       408 non-null    float64\n",
      " 3   Alkphos  408 non-null    int64  \n",
      " 4   Sgpt     408 non-null    int64  \n",
      " 5   Sgot     408 non-null    int64  \n",
      " 6   TP       408 non-null    float64\n",
      " 7   ALB      408 non-null    float64\n",
      " 8   A/G      405 non-null    float64\n",
      "dtypes: float64(5), int64(4)\n",
      "memory usage: 31.9 KB\n",
      "<class 'pandas.core.frame.DataFrame'>\n",
      "Int64Index: 175 entries, 246 to 395\n",
      "Data columns (total 9 columns):\n",
      " #   Column   Non-Null Count  Dtype  \n",
      "---  ------   --------------  -----  \n",
      " 0   Age      175 non-null    int64  \n",
      " 1   TB       175 non-null    float64\n",
      " 2   DB       175 non-null    float64\n",
      " 3   Alkphos  175 non-null    int64  \n",
      " 4   Sgpt     175 non-null    int64  \n",
      " 5   Sgot     175 non-null    int64  \n",
      " 6   TP       175 non-null    float64\n",
      " 7   ALB      175 non-null    float64\n",
      " 8   A/G      174 non-null    float64\n",
      "dtypes: float64(5), int64(4)\n",
      "memory usage: 13.7 KB\n"
     ]
    }
   ],
   "source": [
    "import numpy as np\n",
    "from sklearn.impute import SimpleImputer\n",
    "imp_mean = SimpleImputer(missing_values=np.nan, strategy='mean')\n",
    "imp_mean.fit(X2_train)\n",
    "X2_train.info()\n",
    "X2_test.info()"
   ]
  },
  {
   "cell_type": "code",
   "execution_count": 7,
   "metadata": {},
   "outputs": [
    {
     "name": "stdout",
     "output_type": "stream",
     "text": [
      "<class 'pandas.core.frame.DataFrame'>\n",
      "Int64Index: 408 entries, 271 to 559\n",
      "Data columns (total 9 columns):\n",
      " #   Column   Non-Null Count  Dtype  \n",
      "---  ------   --------------  -----  \n",
      " 0   Age      408 non-null    float64\n",
      " 1   TB       408 non-null    float64\n",
      " 2   DB       408 non-null    float64\n",
      " 3   Alkphos  408 non-null    float64\n",
      " 4   Sgpt     408 non-null    float64\n",
      " 5   Sgot     408 non-null    float64\n",
      " 6   TP       408 non-null    float64\n",
      " 7   ALB      408 non-null    float64\n",
      " 8   A/G      408 non-null    float64\n",
      "dtypes: float64(9)\n",
      "memory usage: 31.9 KB\n",
      "<class 'pandas.core.frame.DataFrame'>\n",
      "Int64Index: 175 entries, 246 to 395\n",
      "Data columns (total 9 columns):\n",
      " #   Column   Non-Null Count  Dtype  \n",
      "---  ------   --------------  -----  \n",
      " 0   Age      175 non-null    float64\n",
      " 1   TB       175 non-null    float64\n",
      " 2   DB       175 non-null    float64\n",
      " 3   Alkphos  175 non-null    float64\n",
      " 4   Sgpt     175 non-null    float64\n",
      " 5   Sgot     175 non-null    float64\n",
      " 6   TP       175 non-null    float64\n",
      " 7   ALB      175 non-null    float64\n",
      " 8   A/G      175 non-null    float64\n",
      "dtypes: float64(9)\n",
      "memory usage: 13.7 KB\n"
     ]
    }
   ],
   "source": [
    "# The transform returns a numpyp.array which we can insert into the DataFrame columns\n",
    "# Or you could use the numpyp.array from this point onward\n",
    "X2_train[:] = imp_mean.transform(X2_train) \n",
    "X2_test[:] = imp_mean.transform(X2_test)\n",
    "X2_train.info()\n",
    "X2_test.info()"
   ]
  },
  {
   "cell_type": "markdown",
   "metadata": {},
   "source": [
    "We could also check the distributions for outliers but with the missing values removed we can now use the scaler without issues."
   ]
  },
  {
   "cell_type": "code",
   "execution_count": 8,
   "metadata": {},
   "outputs": [],
   "source": [
    "# Feature scaling (modified copy from section 5)\n",
    "from sklearn.preprocessing import StandardScaler\n",
    "X2_ctrain = X2_train.copy()\n",
    "X2_ctest = X2_test.copy()\n",
    "sc = StandardScaler()\n",
    "# We could actually give gender to the scaler by substituting one gender with 1 and the other with 0. \n",
    "# The scaler would then translate those into some other values, one positive and one negative with the \n",
    "# values being dependent on the fraction of each gender in the data.\n",
    "# But for now we will just drop it.\n",
    "X2_ctrain = sc.fit_transform(X2_ctrain.loc[:, X2_ctrain.columns != \"Gender\"].values)\n",
    "X2_ctest = sc.transform(X2_ctest.loc[:, X2_ctest.columns != \"Gender\"].values)"
   ]
  },
  {
   "cell_type": "code",
   "execution_count": 9,
   "metadata": {},
   "outputs": [
    {
     "data": {
      "text/plain": [
       "LogisticRegression(penalty='none', random_state=0)"
      ]
     },
     "execution_count": 9,
     "metadata": {},
     "output_type": "execute_result"
    }
   ],
   "source": [
    "# Create a Logistic Regression instance (code from section 6)\n",
    "from sklearn.linear_model import LogisticRegression\n",
    "logistic_model = LogisticRegression(random_state = 0, solver = 'lbfgs', penalty = 'none')\n",
    "logistic_model.fit(X2_ctrain, y2_train['label'])"
   ]
  },
  {
   "cell_type": "code",
   "execution_count": 10,
   "metadata": {},
   "outputs": [
    {
     "name": "stdout",
     "output_type": "stream",
     "text": [
      "Training accuracy: 0.7549019607843137 \n",
      "Test accuracy: 0.6914285714285714\n"
     ]
    }
   ],
   "source": [
    "# Make predictions and report accuracy\n",
    "from sklearn import metrics\n",
    "y2_train_pred = logistic_model.predict(X2_ctrain)\n",
    "y2_test_pred = logistic_model.predict(X2_ctest)\n",
    "acc_train = metrics.accuracy_score(y2_train, y2_train_pred)\n",
    "acc_test = metrics.accuracy_score(y2_test, y2_test_pred)\n",
    "print('Training accuracy: {} \\nTest accuracy: {}'.format(acc_train, acc_test))"
   ]
  },
  {
   "cell_type": "markdown",
   "metadata": {},
   "source": [
    "If you explored the data you may have noticed that there are issues with the data quality which lead to poor machine learning performance even when tuning the algorithms. \n",
    "You will learn in later sessions how to spot these issues. But at this stage we should just note that machine learning cannot solve every problem. There was also a slight imbalance of the classes with 416 cases labeled \"1\" and 167 labeled \"2\", so for this data set assuming every patient has the disease yields around 71% accuracy. But of course, such a model is not useful in practice ..."
   ]
  }
 ],
 "metadata": {
  "kernelspec": {
   "display_name": "Python 3 (ipykernel)",
   "language": "python",
   "name": "python3"
  },
  "language_info": {
   "codemirror_mode": {
    "name": "ipython",
    "version": 3
   },
   "file_extension": ".py",
   "mimetype": "text/x-python",
   "name": "python",
   "nbconvert_exporter": "python",
   "pygments_lexer": "ipython3",
   "version": "3.7.10"
  }
 },
 "nbformat": 4,
 "nbformat_minor": 4
}
